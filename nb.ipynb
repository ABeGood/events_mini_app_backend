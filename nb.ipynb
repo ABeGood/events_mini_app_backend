{
 "cells": [
  {
   "cell_type": "code",
   "execution_count": 1,
   "id": "bb69b57d",
   "metadata": {},
   "outputs": [],
   "source": [
    "from datetime import datetime, timedelta\n",
    "import pytz\n",
    "from backend.events_api import get_events as get_events_api\n",
    "from backend.events_api import transform_event_simple, extract_venue_info, extract_classifications\n",
    "from flask import request\n"
   ]
  },
  {
   "cell_type": "code",
   "execution_count": null,
   "id": "e33fbeda",
   "metadata": {},
   "outputs": [
    {
     "name": "stdout",
     "output_type": "stream",
     "text": [
      "{'_links': {'self': {'href': '/discovery/v2/events.json?includeFamily=yes&includeSpellcheck=no&city=Prague&sort=date%2Casc&locale=cs&endDateTime=2025-07-07T19%3A49%3A25Z&unit=miles&startDateTime=2025-06-30T19%3A49%3A25Z&size=200&countryCode=CZ&preferredCountry=us&classificationName=music%2Csports&includeTBA=no&page=0&includeTest=no&includeTBD=no'}}, 'page': {'size': 200, 'totalElements': 0, 'totalPages': 0, 'number': 0}}\n"
     ]
    }
   ],
   "source": [
    "classification = 'music,sports'\n",
    "\n",
    "# Get this week's date range\n",
    "now = datetime.now(pytz.UTC)\n",
    "week_start = now - timedelta(days=now.weekday())  # Monday\n",
    "week_end = week_start + timedelta(days=7)\n",
    "\n",
    "start_date_time = week_start.strftime(\"%Y-%m-%dT%H:%M:%SZ\")\n",
    "end_date_time = week_end.strftime(\"%Y-%m-%dT%H:%M:%SZ\")\n",
    "\n",
    "classification = 'music,sports'\n",
    "classification_list = [c.strip() for c in classification.split(',') if c.strip()]\n",
    "\n",
    "try:\n",
    "    api_response = get_events_api(\n",
    "        country_code='CZ',\n",
    "        city='Prague',\n",
    "        classification_name=classification_list,\n",
    "        start_date_time=start_date_time,\n",
    "        end_date_time=end_date_time,\n",
    "        size=200,\n",
    "        sort=\"date,asc\",\n",
    "        locale=\"cs\",\n",
    "        save_to_file=False\n",
    "    )\n",
    "    \n",
    "    events_data = api_response.get('_embedded', {}).get('events', [])\n",
    "    \n",
    "    result = {\n",
    "        \"events\": [transform_event_simple(event) for event in events_data],\n",
    "        \"total\": len(events_data),\n",
    "        \"week_start\": week_start.strftime(\"%Y-%m-%d\"),\n",
    "        \"week_end\": week_end.strftime(\"%Y-%m-%d\"),\n",
    "        \"status\": \"success\"\n",
    "    }\n",
    "\n",
    "except Exception as e:\n",
    "    print(f\"Error: {e}\")\n",
    "\n",
    "print(api_response)"
   ]
  },
  {
   "cell_type": "code",
   "execution_count": null,
   "id": "88c20386",
   "metadata": {},
   "outputs": [
    {
     "name": "stdout",
     "output_type": "stream",
     "text": [
      "🎫 Received 0 events from Ticketmaster API\n",
      "✅ Successfully transformed 0 events\n",
      "📊 Total events available: 0 across 0 pages\n"
     ]
    }
   ],
   "source": [
    "# Calculate current date and future date\n",
    "now = datetime.now(pytz.UTC)\n",
    "future_date = now + timedelta(days=90)\n",
    "\n",
    "# Format dates for API (ISO format)\n",
    "start_date_time = now.strftime(\"%Y-%m-%dT%H:%M:%SZ\")\n",
    "end_date_time = future_date.strftime(\"%Y-%m-%dT%H:%M:%SZ\")\n",
    "\n",
    "# Parse classification parameter\n",
    "classification_list = [c.strip() for c in classification.split(',') if c.strip()]\n",
    "\n",
    "try:\n",
    "    # Call your Ticketmaster API function\n",
    "    api_response = get_events_api(\n",
    "        country_code='CZ',\n",
    "        city='Prague',\n",
    "        classification_name=classification_list,\n",
    "        keyword=None,\n",
    "        start_date_time=start_date_time,\n",
    "        end_date_time=end_date_time,\n",
    "        size=min(200, 200),\n",
    "        sort=\"date,asc\",\n",
    "        locale=\"cs\",\n",
    "        include_tba=\"no\",\n",
    "        include_tbd=\"no\",\n",
    "        save_to_file=False\n",
    "    )\n",
    "    \n",
    "    # Extract events from API response\n",
    "    events_data = api_response.get('_embedded', {}).get('events', [])\n",
    "    page_info = api_response.get('page', {})\n",
    "    \n",
    "    # Log raw events count\n",
    "    print(f\"🎫 Received {len(events_data)} events from Ticketmaster API\")\n",
    "    \n",
    "    # Transform events data for frontend\n",
    "    transformed_events = []\n",
    "    for idx, event in enumerate(events_data):\n",
    "        transformed_event = {\n",
    "            'id': event.get('id'),\n",
    "            'name': event.get('name'),\n",
    "            'url': event.get('url'),\n",
    "            'date': event.get('dates', {}).get('start', {}).get('localDate'),\n",
    "            'time': event.get('dates', {}).get('start', {}).get('localTime'),\n",
    "            'datetime': event.get('dates', {}).get('start', {}).get('dateTime'),\n",
    "            'timezone': event.get('dates', {}).get('timezone'),\n",
    "            'status': event.get('dates', {}).get('status', {}).get('code'),\n",
    "            'venue': extract_venue_info(event),\n",
    "            'classifications': extract_classifications(event),\n",
    "            'price_ranges': event.get('priceRanges', []),\n",
    "            'images': event.get('images', []),\n",
    "            'info': event.get('info'),\n",
    "            'please_note': event.get('pleaseNote')\n",
    "        }\n",
    "        transformed_events.append(transformed_event)\n",
    "        \n",
    "        # Log each event details\n",
    "        venue_name = transformed_event['venue'].get('name', 'Unknown venue') if transformed_event['venue'] else 'No venue'\n",
    "        venue_city = transformed_event['venue'].get('city', 'Unknown city') if transformed_event['venue'] else 'No city'\n",
    "        \n",
    "        print (f\"  Event {idx + 1}: '{transformed_event['name']}' at {venue_name}, {venue_city} on {transformed_event['date']}\")\n",
    "    \n",
    "    # Summary logging\n",
    "    print(f\"✅ Successfully transformed {len(transformed_events)} events\")\n",
    "    print(f\"📊 Total events available: {page_info.get('totalElements', 0)} across {page_info.get('totalPages', 0)} pages\")\n",
    "    \n",
    "    # Log first 5 event names for quick reference\n",
    "    if transformed_events:\n",
    "        print(\"🎭 First few events:\")\n",
    "        for i, event in enumerate(transformed_events[:5]):\n",
    "            print(f\"   {i+1}. {event['name']}\")\n",
    "except Exception as e:\n",
    "    print(f\"❌ Error fetching events: {str(e)}\")"
   ]
  }
 ],
 "metadata": {
  "kernelspec": {
   "display_name": ".venv",
   "language": "python",
   "name": "python3"
  },
  "language_info": {
   "codemirror_mode": {
    "name": "ipython",
    "version": 3
   },
   "file_extension": ".py",
   "mimetype": "text/x-python",
   "name": "python",
   "nbconvert_exporter": "python",
   "pygments_lexer": "ipython3",
   "version": "3.13.3"
  }
 },
 "nbformat": 4,
 "nbformat_minor": 5
}
