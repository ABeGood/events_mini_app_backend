{
 "cells": [
  {
   "cell_type": "code",
   "execution_count": 1,
   "id": "bb69b57d",
   "metadata": {},
   "outputs": [],
   "source": [
    "from datetime import datetime, timedelta\n",
    "import pytz\n",
    "from backend.events_api import get_events as get_events_api\n",
    "from backend.events_api import transform_event_simple\n"
   ]
  },
  {
   "cell_type": "code",
   "execution_count": 2,
   "id": "e33fbeda",
   "metadata": {},
   "outputs": [
    {
     "name": "stdout",
     "output_type": "stream",
     "text": [
      "{'_links': {'self': {'href': '/discovery/v2/events.json?includeFamily=yes&includeSpellcheck=no&city=Prague&sort=date%2Casc&locale=cs&endDateTime=2025-06-30T13%3A37%3A44Z&unit=miles&startDateTime=2025-06-23T13%3A37%3A44Z&size=200&countryCode=CZ&preferredCountry=us&classificationName=music%2Csports&includeTBA=no&page=0&includeTest=no&includeTBD=no'}}, 'page': {'size': 200, 'totalElements': 0, 'totalPages': 0, 'number': 0}}\n"
     ]
    }
   ],
   "source": [
    "classification = 'music,sports'\n",
    "\n",
    "# Get this week's date range\n",
    "now = datetime.now(pytz.UTC)\n",
    "week_start = now - timedelta(days=now.weekday())  # Monday\n",
    "week_end = week_start + timedelta(days=7)\n",
    "\n",
    "start_date_time = week_start.strftime(\"%Y-%m-%dT%H:%M:%SZ\")\n",
    "end_date_time = week_end.strftime(\"%Y-%m-%dT%H:%M:%SZ\")\n",
    "\n",
    "classification_list = [c.strip() for c in classification.split(',') if c.strip()]\n",
    "\n",
    "try:\n",
    "    api_response = get_events_api(\n",
    "        country_code='CZ',\n",
    "        city='Prague',\n",
    "        classification_name=classification_list,\n",
    "        start_date_time=start_date_time,\n",
    "        end_date_time=end_date_time,\n",
    "        size=200,\n",
    "        sort=\"date,asc\",\n",
    "        locale=\"cs\",\n",
    "        save_to_file=False\n",
    "    )\n",
    "    \n",
    "    events_data = api_response.get('_embedded', {}).get('events', [])\n",
    "    \n",
    "    result = {\n",
    "        \"events\": [transform_event_simple(event) for event in events_data],\n",
    "        \"total\": len(events_data),\n",
    "        \"week_start\": week_start.strftime(\"%Y-%m-%d\"),\n",
    "        \"week_end\": week_end.strftime(\"%Y-%m-%d\"),\n",
    "        \"status\": \"success\"\n",
    "    }\n",
    "\n",
    "except Exception as e:\n",
    "    print(f\"Error: {e}\")\n",
    "\n",
    "print(api_response)"
   ]
  }
 ],
 "metadata": {
  "kernelspec": {
   "display_name": ".venv",
   "language": "python",
   "name": "python3"
  },
  "language_info": {
   "codemirror_mode": {
    "name": "ipython",
    "version": 3
   },
   "file_extension": ".py",
   "mimetype": "text/x-python",
   "name": "python",
   "nbconvert_exporter": "python",
   "pygments_lexer": "ipython3",
   "version": "3.13.3"
  }
 },
 "nbformat": 4,
 "nbformat_minor": 5
}
